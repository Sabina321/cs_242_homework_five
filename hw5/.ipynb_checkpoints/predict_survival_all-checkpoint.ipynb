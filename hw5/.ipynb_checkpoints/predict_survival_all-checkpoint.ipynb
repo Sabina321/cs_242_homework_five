{
 "cells": [
  {
   "cell_type": "code",
   "execution_count": 6,
   "metadata": {
    "collapsed": true
   },
   "outputs": [],
   "source": [
    "import pandas as pd\n",
    "from sklearn import *\n",
    "import numpy as np"
   ]
  },
  {
   "cell_type": "code",
   "execution_count": 2,
   "metadata": {
    "collapsed": true
   },
   "outputs": [],
   "source": [
    "def get_data():\n",
    "    return pd.DataFrame.from_csv('data/train.csv')"
   ]
  },
  {
   "cell_type": "code",
   "execution_count": 15,
   "metadata": {
    "collapsed": false
   },
   "outputs": [
    {
     "data": {
      "text/plain": [
       "u'\\\\begin{tabular}{lrrrrrr}\\n\\\\toprule\\n{} &  Survived &    Pclass &       Age &     SibSp &     Parch &      Fare \\\\\\\\\\n\\\\midrule\\nSurvived &  1.000000 & -0.323533 & -0.043385 &  0.085915 &  0.133933 &  0.266229 \\\\\\\\\\nPclass   & -0.323533 &  1.000000 & -0.286081 & -0.039552 & -0.021019 & -0.573531 \\\\\\\\\\nAge      & -0.043385 & -0.286081 &  1.000000 & -0.142746 & -0.200112 &  0.093249 \\\\\\\\\\nSibSp    &  0.085915 & -0.039552 & -0.142746 &  1.000000 &  0.425241 &  0.358262 \\\\\\\\\\nParch    &  0.133933 & -0.021019 & -0.200112 &  0.425241 &  1.000000 &  0.330360 \\\\\\\\\\nFare     &  0.266229 & -0.573531 &  0.093249 &  0.358262 &  0.330360 &  1.000000 \\\\\\\\\\n\\\\bottomrule\\n\\\\end{tabular}\\n'"
      ]
     },
     "execution_count": 15,
     "metadata": {},
     "output_type": "execute_result"
    }
   ],
   "source": [
    "data.corr(\"kendall\").to_latex()"
   ]
  },
  {
   "cell_type": "code",
   "execution_count": 3,
   "metadata": {
    "collapsed": true
   },
   "outputs": [],
   "source": [
    "data=get_data()"
   ]
  },
  {
   "cell_type": "code",
   "execution_count": null,
   "metadata": {
    "collapsed": true
   },
   "outputs": [],
   "source": [
    "def transform_embarked():\n",
    "    "
   ]
  },
  {
   "cell_type": "code",
   "execution_count": 17,
   "metadata": {
    "collapsed": false
   },
   "outputs": [
    {
     "data": {
      "text/plain": [
       "{nan, 'C', 'Q', 'S'}"
      ]
     },
     "execution_count": 17,
     "metadata": {},
     "output_type": "execute_result"
    }
   ],
   "source": [
    "set(data[\"Embarked\"])"
   ]
  },
  {
   "cell_type": "code",
   "execution_count": 11,
   "metadata": {
    "collapsed": false
   },
   "outputs": [],
   "source": [
    "##survival per class\n",
    "classes = data.groupby('Pclass')"
   ]
  },
  {
   "cell_type": "code",
   "execution_count": 14,
   "metadata": {
    "collapsed": false
   },
   "outputs": [
    {
     "name": "stdout",
     "output_type": "stream",
     "text": [
      "0.62962962963\n",
      "0.472826086957\n",
      "0.242362525458\n"
     ]
    }
   ],
   "source": [
    "print classes.get_group(1)[\"Survived\"].mean()\n",
    "print classes.get_group(2)[\"Survived\"].mean()\n",
    "print classes.get_group(3)[\"Survived\"].mean()"
   ]
  },
  {
   "cell_type": "code",
   "execution_count": null,
   "metadata": {
    "collapsed": true
   },
   "outputs": [],
   "source": []
  }
 ],
 "metadata": {
  "kernelspec": {
   "display_name": "Python 2",
   "language": "python",
   "name": "python2"
  },
  "language_info": {
   "codemirror_mode": {
    "name": "ipython",
    "version": 2
   },
   "file_extension": ".py",
   "mimetype": "text/x-python",
   "name": "python",
   "nbconvert_exporter": "python",
   "pygments_lexer": "ipython2",
   "version": "2.7.10"
  }
 },
 "nbformat": 4,
 "nbformat_minor": 0
}
